{
 "cells": [
  {
   "cell_type": "markdown",
   "metadata": {
    "id": "M4t2v884yMhS"
   },
   "source": [
    "# The Sparks Foundation -Data Science and Business Analytics Tasks"
   ]
  },
  {
   "cell_type": "markdown",
   "metadata": {
    "id": "US0qOW0eynbK"
   },
   "source": [
    "# Prediction using supervised ML"
   ]
  },
  {
   "cell_type": "markdown",
   "metadata": {
    "id": "XTaARNZAxYYb"
   },
   "source": [
    "**Created by Tirthankar Sarkar**\n",
    "\n",
    "\n",
    "\n",
    "\n",
    "---\n",
    "\n",
    "\n",
    "-----Intern at Data Science & Business Analytics intern in its Graduate Rotational Internship Program (GRIP) at The Sparks Foundation\n",
    "\n"
   ]
  },
  {
   "cell_type": "code",
   "execution_count": null,
   "metadata": {
    "id": "b9TbX_5PxQZ7"
   },
   "outputs": [],
   "source": []
  },
  {
   "cell_type": "markdown",
   "metadata": {
    "id": "ZPplQtByxRoo"
   },
   "source": [
    "Q1. (To Explore Supervised Machine Learning)\n",
    "In this regression task we will predict the percentage of marks that a student is expected to score based upon the number of hours they studied. This is a simple linear regression task as it involves just two variables."
   ]
  },
  {
   "cell_type": "markdown",
   "metadata": {
    "id": "a7857r76wvGC"
   },
   "source": [
    "# Importing Libraries and extracting the dataset "
   ]
  },
  {
   "cell_type": "code",
   "execution_count": 1,
   "metadata": {
    "id": "GlJ4Sn4zkfNB"
   },
   "outputs": [
    {
     "name": "stderr",
     "output_type": "stream",
     "text": [
      "Matplotlib is building the font cache; this may take a moment.\n"
     ]
    },
    {
     "ename": "ModuleNotFoundError",
     "evalue": "No module named 'yellowbrick'",
     "output_type": "error",
     "traceback": [
      "\u001b[1;31m---------------------------------------------------------------------------\u001b[0m",
      "\u001b[1;31mModuleNotFoundError\u001b[0m                       Traceback (most recent call last)",
      "\u001b[1;32m~\\AppData\\Local\\Temp/ipykernel_1804/1023576037.py\u001b[0m in \u001b[0;36m<module>\u001b[1;34m\u001b[0m\n\u001b[0;32m      6\u001b[0m \u001b[1;32mimport\u001b[0m \u001b[0mseaborn\u001b[0m \u001b[1;32mas\u001b[0m \u001b[0msns\u001b[0m\u001b[1;33m\u001b[0m\u001b[1;33m\u001b[0m\u001b[0m\n\u001b[0;32m      7\u001b[0m \u001b[0msns\u001b[0m\u001b[1;33m.\u001b[0m\u001b[0mset\u001b[0m\u001b[1;33m(\u001b[0m\u001b[1;33m)\u001b[0m\u001b[1;33m\u001b[0m\u001b[1;33m\u001b[0m\u001b[0m\n\u001b[1;32m----> 8\u001b[1;33m \u001b[1;32mimport\u001b[0m \u001b[0myellowbrick\u001b[0m \u001b[1;32mas\u001b[0m \u001b[0myb\u001b[0m\u001b[1;33m\u001b[0m\u001b[1;33m\u001b[0m\u001b[0m\n\u001b[0m\u001b[0;32m      9\u001b[0m \u001b[0mplt\u001b[0m\u001b[1;33m.\u001b[0m\u001b[0mstyle\u001b[0m\u001b[1;33m.\u001b[0m\u001b[0muse\u001b[0m\u001b[1;33m(\u001b[0m\u001b[1;34m'ggplot'\u001b[0m\u001b[1;33m)\u001b[0m\u001b[1;33m\u001b[0m\u001b[1;33m\u001b[0m\u001b[0m\n",
      "\u001b[1;31mModuleNotFoundError\u001b[0m: No module named 'yellowbrick'"
     ]
    }
   ],
   "source": [
    "#importing all the required libraries\n",
    "%matplotlib inline\n",
    "import pandas as pd\n",
    "import numpy as np\n",
    "import matplotlib.pyplot as plt\n",
    "import seaborn as sns\n",
    "sns.set()\n",
    "import yellowbrick as yb\n",
    "plt.style.use('ggplot')"
   ]
  },
  {
   "cell_type": "code",
   "execution_count": null,
   "metadata": {
    "colab": {
     "base_uri": "https://localhost:8080/",
     "height": 380
    },
    "id": "fmUoUJ1klGzl",
    "outputId": "ce4b68ed-e715-44ce-e7d8-59d17682087a"
   },
   "outputs": [],
   "source": [
    "data = pd.read_csv('http://bit.ly/w-data')\n",
    "print('shape of the data set is', data.shape)\n",
    "data.head(10)"
   ]
  },
  {
   "cell_type": "code",
   "execution_count": null,
   "metadata": {
    "colab": {
     "base_uri": "https://localhost:8080/"
    },
    "id": "RZRQsCUUnWDf",
    "outputId": "148273a5-068e-49b2-e47c-35306987eb76"
   },
   "outputs": [],
   "source": [
    "data.info()"
   ]
  },
  {
   "cell_type": "code",
   "execution_count": null,
   "metadata": {
    "colab": {
     "base_uri": "https://localhost:8080/",
     "height": 279
    },
    "id": "zpOwZAVdnWHF",
    "outputId": "b08dd664-73b1-47fc-9ffb-703a489590ac"
   },
   "outputs": [],
   "source": [
    "\n",
    "data.plot(kind='scatter',x='Hours',y='Scores')\n",
    "plt.show()"
   ]
  },
  {
   "cell_type": "markdown",
   "metadata": {
    "id": "0k8elndep77W"
   },
   "source": [
    "***From the above graph, we can conclude that there is positive relation between the number of hours studies and percentage of score. Now dividing the data into attributes and labels***"
   ]
  },
  {
   "cell_type": "code",
   "execution_count": null,
   "metadata": {
    "colab": {
     "base_uri": "https://localhost:8080/",
     "height": 112
    },
    "id": "prRgoT9qon-8",
    "outputId": "e0d611f0-21ca-47e9-d497-1af4a193d862"
   },
   "outputs": [],
   "source": [
    "data.corr(method='pearson')"
   ]
  },
  {
   "cell_type": "code",
   "execution_count": null,
   "metadata": {
    "id": "i-v2t6-rqRWt"
   },
   "outputs": [],
   "source": [
    "X=data.iloc[:,:-1].values\n",
    "y=data.iloc[:,1].values"
   ]
  },
  {
   "cell_type": "markdown",
   "metadata": {
    "id": "pRsILnJordrN"
   },
   "source": [
    "In the next step, we will use Scikit-Learn's built-in train_set_split() method to split our data into training and test sets."
   ]
  },
  {
   "cell_type": "code",
   "execution_count": null,
   "metadata": {
    "id": "jwT9p9oqqS_k"
   },
   "outputs": [],
   "source": [
    "from sklearn.model_selection import train_test_split\n",
    "X_train,X_test,y_train,y_test=train_test_split(X,y,test_size=0.1,random_state=0)"
   ]
  },
  {
   "cell_type": "markdown",
   "metadata": {
    "id": "_rMs1X6Oo2ic"
   },
   "source": [
    "#Training the Algorithm"
   ]
  },
  {
   "cell_type": "code",
   "execution_count": null,
   "metadata": {
    "colab": {
     "base_uri": "https://localhost:8080/"
    },
    "id": "XQ9Ezfiqoxtq",
    "outputId": "e299cf09-8bbf-43a4-d03b-04fcbf290f04"
   },
   "outputs": [],
   "source": [
    "from sklearn.linear_model import LinearRegression\n",
    "R1=LinearRegression()\n",
    "R1.fit(X,y)\n",
    "print(\"Training the model\")"
   ]
  },
  {
   "cell_type": "code",
   "execution_count": null,
   "metadata": {
    "colab": {
     "base_uri": "https://localhost:8080/",
     "height": 265
    },
    "id": "BbCCQwPzofBt",
    "outputId": "926f7a2b-d010-49cc-edc3-b784146e82d5"
   },
   "outputs": [],
   "source": [
    "#plotting regression line\n",
    "line=R1.coef_*X+R1.intercept_\n",
    "mt.scatter(X,y)\n",
    "mt.plot(X,line)\n",
    "mt.show()"
   ]
  },
  {
   "cell_type": "code",
   "execution_count": null,
   "metadata": {
    "colab": {
     "base_uri": "https://localhost:8080/",
     "height": 436
    },
    "id": "sjilBkBgrYnj",
    "outputId": "98052b91-90ae-42d2-8567-a5007e2e944d"
   },
   "outputs": [],
   "source": [
    "sns.distplot(y_train, kde=True)\n",
    "plt.title('Distribution of Scores')"
   ]
  },
  {
   "cell_type": "code",
   "execution_count": null,
   "metadata": {
    "colab": {
     "base_uri": "https://localhost:8080/",
     "height": 436
    },
    "id": "WK8JqMt4ulnf",
    "outputId": "e4fa19e1-66f1-444d-c0c8-9b14d579209c"
   },
   "outputs": [],
   "source": [
    "sns.regplot(X_train, y_train)\n",
    "plt.title('Hours VS Scores')"
   ]
  },
  {
   "cell_type": "code",
   "execution_count": null,
   "metadata": {
    "id": "Gt0MH_9dumf7"
   },
   "outputs": [],
   "source": []
  },
  {
   "cell_type": "markdown",
   "metadata": {
    "id": "CSQXPeI-rxEc"
   },
   "source": [
    "# Prediction"
   ]
  },
  {
   "cell_type": "code",
   "execution_count": null,
   "metadata": {
    "colab": {
     "base_uri": "https://localhost:8080/"
    },
    "id": "zGSiE-a1ofDm",
    "outputId": "22a30b78-ac9c-450d-e39b-4a79172f3a9d"
   },
   "outputs": [],
   "source": [
    "#testing data\n",
    "print(X_test)\n",
    "y_pred=R1.predict(X_test)"
   ]
  },
  {
   "cell_type": "code",
   "execution_count": null,
   "metadata": {
    "colab": {
     "base_uri": "https://localhost:8080/",
     "height": 206
    },
    "id": "NCNxX_0aofGe",
    "outputId": "7e6ac384-7824-47a1-b855-7d5193546a48"
   },
   "outputs": [],
   "source": [
    "#comparing actual vs predicted\n",
    "df=pd.DataFrame({\"Actual\":y_test, \"Predicted\":y_pred})\n",
    "df"
   ]
  },
  {
   "cell_type": "code",
   "execution_count": null,
   "metadata": {
    "colab": {
     "base_uri": "https://localhost:8080/"
    },
    "id": "bhsKGjTUnWNR",
    "outputId": "c988e788-8599-4358-cd48-2e41412474df"
   },
   "outputs": [],
   "source": [
    "print(\"Training Score:\",R1.score(X_train,y_train))\n",
    "print(\"Testing Score: \",R1.score(X_test,y_test))\n",
    "regressor = LinearRegression()"
   ]
  },
  {
   "cell_type": "code",
   "execution_count": null,
   "metadata": {
    "colab": {
     "base_uri": "https://localhost:8080/",
     "height": 316
    },
    "id": "eUK2zTVLr7b0",
    "outputId": "0507e5e8-66a3-477b-9e8f-cc1a00e1d90a"
   },
   "outputs": [],
   "source": [
    "#plotting the actual and predicted value into bar graph\n",
    "df.plot(kind=\"bar\", figsize=(10,5))\n",
    "mt.show()"
   ]
  },
  {
   "cell_type": "code",
   "execution_count": null,
   "metadata": {
    "colab": {
     "base_uri": "https://localhost:8080/",
     "height": 320
    },
    "id": "WZUOcxTqr7ll",
    "outputId": "cf61de33-fb86-4b34-89e5-4b1d1992420f"
   },
   "outputs": [],
   "source": [
    "#plotting the actual and predicted value into bar graph\n",
    "df.plot(kind=\"line\", figsize=(10,5))\n",
    "mt.show()"
   ]
  },
  {
   "cell_type": "code",
   "execution_count": null,
   "metadata": {
    "colab": {
     "base_uri": "https://localhost:8080/"
    },
    "id": "iLaIcBx6r7sA",
    "outputId": "6c3d74b7-ee08-4942-d918-c5c5407b024f"
   },
   "outputs": [],
   "source": [
    "#predicting for 9.25 hrs per day\n",
    "hours=9.25\n",
    "test=np.array([hours])\n",
    "test=test.reshape(-1,1)\n",
    "pred_val=R1.predict(test)\n",
    "print(\"No. of hours=\", hours)\n",
    "print(\"Predicted Score=\", pred_val[0])"
   ]
  },
  {
   "cell_type": "markdown",
   "metadata": {
    "id": "VIQD7rpfsPLi"
   },
   "source": [
    "# Visualizing the result"
   ]
  },
  {
   "cell_type": "code",
   "execution_count": null,
   "metadata": {
    "colab": {
     "base_uri": "https://localhost:8080/"
    },
    "id": "svyl5-6JsOHt",
    "outputId": "18494614-36d3-4ac6-88e6-673edfcc578b"
   },
   "outputs": [],
   "source": [
    "#fitting simple linear regression to the training set\n",
    "from sklearn.linear_model import LinearRegression\n",
    "regressor = LinearRegression()\n",
    "regressor.fit(X_train, y_train)"
   ]
  },
  {
   "cell_type": "code",
   "execution_count": null,
   "metadata": {
    "colab": {
     "base_uri": "https://localhost:8080/",
     "height": 143
    },
    "id": "PBNmpVh5sONV",
    "outputId": "38256420-c10d-4310-a44d-faaebfd64a14"
   },
   "outputs": [],
   "source": [
    "#predicting the test set results\n",
    "y_pred = regressor.predict(X_test)\n",
    "\n",
    "# Comparing Actual vs Predicted\n",
    "df = pd.DataFrame({'Actual': y_test, 'Predicted': y_pred})  \n",
    "df.head(5)"
   ]
  },
  {
   "cell_type": "code",
   "execution_count": null,
   "metadata": {
    "colab": {
     "base_uri": "https://localhost:8080/",
     "height": 380
    },
    "id": "aMceah_Fvn4P",
    "outputId": "0ff5d232-e03f-40fe-bafd-33d17bc1844e"
   },
   "outputs": [],
   "source": [
    "#visualising the training set results\n",
    "plt.scatter(X_train, y_train, color = 'red')\n",
    "plt.plot(X_train,  regressor.predict(X_train), color= 'blue')\n",
    "plt.title('Hours VS Scores (Training set)')\n",
    "plt.xlabel('Hours')\n",
    "plt.ylabel('Scores')\n",
    "plt.show()"
   ]
  },
  {
   "cell_type": "code",
   "execution_count": null,
   "metadata": {
    "colab": {
     "base_uri": "https://localhost:8080/",
     "height": 380
    },
    "id": "dgV6breavn6o",
    "outputId": "1716cc2f-d9b8-4072-d441-5f278d450683"
   },
   "outputs": [],
   "source": [
    "#visualising the test set results\n",
    "plt.scatter(X_test, y_test, color = 'red')\n",
    "plt.plot(X_train,  regressor.predict(X_train), color= 'blue')\n",
    "plt.title('Hours VS Scores (Test set)')\n",
    "plt.xlabel('Hours')\n",
    "plt.ylabel('Scores')\n",
    "plt.show()"
   ]
  },
  {
   "cell_type": "code",
   "execution_count": null,
   "metadata": {
    "id": "6GZ1mftYvn9Q"
   },
   "outputs": [],
   "source": []
  },
  {
   "cell_type": "markdown",
   "metadata": {
    "id": "fQ1Xrq2jwJ3D"
   },
   "source": [
    "# Model Evaluation"
   ]
  },
  {
   "cell_type": "code",
   "execution_count": null,
   "metadata": {
    "colab": {
     "base_uri": "https://localhost:8080/"
    },
    "id": "kn7l6cEgr8B1",
    "outputId": "79438891-dd04-4bb4-b938-7222915b1461"
   },
   "outputs": [],
   "source": [
    "k = X_test.shape[1]\n",
    "n = len(X_test)\n",
    "n"
   ]
  },
  {
   "cell_type": "code",
   "execution_count": null,
   "metadata": {
    "colab": {
     "base_uri": "https://localhost:8080/"
    },
    "id": "vKXXOQWHvzOi",
    "outputId": "4a579105-e073-4cf1-f4a7-949dfbb1ffda"
   },
   "outputs": [],
   "source": [
    "from sklearn.metrics import r2_score\n",
    "from math import sqrt\n",
    "\n",
    "r2 = r2_score(y_test, y_pred)\n",
    "adj_r2 = 1-(1-r2)*(n-1)/(n-k-1)\n",
    "\n",
    "print('R2 =', r2, '\\nAdjusted R2 =', adj_r2) "
   ]
  },
  {
   "cell_type": "markdown",
   "metadata": {
    "id": "HQVE9s9fv5La"
   },
   "source": [
    "#  Predicting Future Data"
   ]
  },
  {
   "cell_type": "code",
   "execution_count": null,
   "metadata": {
    "colab": {
     "base_uri": "https://localhost:8080/"
    },
    "id": "Qode6jqGvzQ7",
    "outputId": "9b959b08-811c-43ca-a23e-95b8a9252b4f"
   },
   "outputs": [],
   "source": [
    "Hours = 9.25\n",
    "my_pred = regressor.predict([[Hours]])\n",
    "\n",
    "print('Hours =', Hours, '\\nPrediction =', my_pred)"
   ]
  }
 ],
 "metadata": {
  "colab": {
   "name": "SuperVisedMachineLearning.ipynb",
   "provenance": []
  },
  "kernelspec": {
   "display_name": "Python 3 (ipykernel)",
   "language": "python",
   "name": "python3"
  },
  "language_info": {
   "codemirror_mode": {
    "name": "ipython",
    "version": 3
   },
   "file_extension": ".py",
   "mimetype": "text/x-python",
   "name": "python",
   "nbconvert_exporter": "python",
   "pygments_lexer": "ipython3",
   "version": "3.9.7"
  }
 },
 "nbformat": 4,
 "nbformat_minor": 1
}
